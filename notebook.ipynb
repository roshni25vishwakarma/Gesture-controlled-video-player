{
 "cells": [
  {
   "cell_type": "code",
   "execution_count": 5,
   "metadata": {},
   "outputs": [],
   "source": [
    "import cv2\n",
    "import numpy as np\n",
    "import mediapipe as mp\n",
    "import tensorflow as tf\n",
    "from tensorflow.keras.models import load_model\n"
   ]
  },
  {
   "cell_type": "code",
   "execution_count": 7,
   "metadata": {},
   "outputs": [],
   "source": [
    "mpHands = mp.solutions.hands\n",
    "hands = mpHands.Hands(max_num_hands=1, min_detection_confidence=0.7)\n",
    "mpDraw = mp.solutions.drawing_utils"
   ]
  },
  {
   "cell_type": "code",
   "execution_count": 14,
   "metadata": {},
   "outputs": [
    {
     "name": "stdout",
     "output_type": "stream",
     "text": [
      "['okay', 'peace', 'thumbs up', 'thumbs down', 'call me', 'stop', 'rock', 'live long', 'fist', 'smile']\n"
     ]
    }
   ],
   "source": [
    "# Load the gesture recognizer model\n",
    "model = load_model('mp_hand_gesture')\n",
    "# Load class names\n",
    "f = open('gesture.names', 'r')\n",
    "classNames = f.read().split('\\n')\n",
    "f.close()\n",
    "print(classNames)"
   ]
  },
  {
   "cell_type": "code",
   "execution_count": 3,
   "metadata": {},
   "outputs": [
    {
     "ename": "IndentationError",
     "evalue": "unexpected indent (Temp/ipykernel_27736/2464786328.py, line 7)",
     "output_type": "error",
     "traceback": [
      "\u001b[1;36m  File \u001b[1;32m\"C:\\Users\\SWATIV~1\\AppData\\Local\\Temp/ipykernel_27736/2464786328.py\"\u001b[1;36m, line \u001b[1;32m7\u001b[0m\n\u001b[1;33m    frame = cv2.flip(frame, 1)\u001b[0m\n\u001b[1;37m    ^\u001b[0m\n\u001b[1;31mIndentationError\u001b[0m\u001b[1;31m:\u001b[0m unexpected indent\n"
     ]
    }
   ],
   "source": [
    "cap = cv2.VideoCapture(0)\n",
    "while True:\n",
    "  # Read each frame from the webcam\n",
    "  _, frame = cap.read()\n",
    "x , y, c = frame.shape\n",
    "  # Flip the frame vertically\n",
    "  frame = cv2.flip(frame, 1)\n",
    "  # Show the final output\n",
    "  cv2.imshow(\"Output\", frame)\n",
    "  if cv2.waitKey(1) == ord('q'):\n",
    "        break\n",
    "# release the webcam and destroy all active windows\n",
    "cap.release()\n",
    "cv2.destroyAllWindows()"
   ]
  },
  {
   "cell_type": "code",
   "execution_count": 12,
   "metadata": {},
   "outputs": [
    {
     "ename": "IndentationError",
     "evalue": "unexpected indent (Temp/ipykernel_18684/1676235809.py, line 3)",
     "output_type": "error",
     "traceback": [
      "\u001b[1;36m  File \u001b[1;32m\"C:\\Users\\SWATIV~1\\AppData\\Local\\Temp/ipykernel_18684/1676235809.py\"\u001b[1;36m, line \u001b[1;32m3\u001b[0m\n\u001b[1;33m    result = hands.process(framergb)\u001b[0m\n\u001b[1;37m    ^\u001b[0m\n\u001b[1;31mIndentationError\u001b[0m\u001b[1;31m:\u001b[0m unexpected indent\n"
     ]
    }
   ],
   "source": [
    "framergb = cv2.cvtColor(frame, cv2.COLOR_BGR2RGB)\n",
    "  # Get hand landmark prediction\n",
    "  result = hands.process(framergb)\n",
    "  className = ''\n",
    "  # post process the result\n",
    "  if result.multi_hand_landmarks:\n",
    "      landmarks = []\n",
    "      for handslms in result.multi_hand_landmarks:\n",
    "          for lm in handslms.landmark:\n",
    "              # print(id, lm)\n",
    "              lmx = int(lm.x * x)\n",
    "              lmy = int(lm.y * y)\n",
    "              landmarks.append([lmx, lmy])\n",
    "          # Drawing landmarks on frames\n",
    "          mpDraw.draw_landmarks(frame, handslms, \n",
    "mpHands.HAND_CONNECTIONS)"
   ]
  }
 ],
 "metadata": {
  "interpreter": {
   "hash": "ea9d87c8895edc06ca9fa684242dd5e532ba7725b4b21e0785b4ff7baf3addad"
  },
  "kernelspec": {
   "display_name": "Python 3.9.6 64-bit",
   "language": "python",
   "name": "python3"
  },
  "language_info": {
   "codemirror_mode": {
    "name": "ipython",
    "version": 3
   },
   "file_extension": ".py",
   "mimetype": "text/x-python",
   "name": "python",
   "nbconvert_exporter": "python",
   "pygments_lexer": "ipython3",
   "version": "3.9.6"
  },
  "orig_nbformat": 4
 },
 "nbformat": 4,
 "nbformat_minor": 2
}
